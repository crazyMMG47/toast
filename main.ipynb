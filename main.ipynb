{
 "cells": [
  {
   "cell_type": "markdown",
   "id": "45779e05",
   "metadata": {},
   "source": [
    "# MRE Image Segmentation with Probabilistic U-Net Architecture "
   ]
  },
  {
   "cell_type": "markdown",
   "id": "ac9af11e",
   "metadata": {},
   "source": [
    "TODO: ADD MODEL ARCHITECTURE "
   ]
  },
  {
   "cell_type": "markdown",
   "id": "85720d38",
   "metadata": {},
   "source": [
    "TODO: ADD WRITE-UPS ABOUT THE MODEL ARCHITECTURE EXPLANATION"
   ]
  },
  {
   "cell_type": "markdown",
   "id": "113b2d95",
   "metadata": {},
   "source": [
    "## Prepare Dataset \n",
    "* Resize\n",
    "* Intensity Normalization per Subject\n",
    "* Convert to Tensor "
   ]
  },
  {
   "cell_type": "code",
   "execution_count": 2,
   "id": "9cf224f0",
   "metadata": {},
   "outputs": [
    {
     "name": "stdout",
     "output_type": "stream",
     "text": [
      "Collecting nibabel\n",
      "  Using cached nibabel-5.3.2-py3-none-any.whl.metadata (9.1 kB)\n",
      "Requirement already satisfied: importlib-resources>=5.12 in /home/smooi/miniconda3/envs/torch_env/lib/python3.9/site-packages (from nibabel) (6.5.2)\n",
      "Requirement already satisfied: numpy>=1.22 in /home/smooi/miniconda3/envs/torch_env/lib/python3.9/site-packages (from nibabel) (2.0.2)\n",
      "Requirement already satisfied: packaging>=20 in /home/smooi/miniconda3/envs/torch_env/lib/python3.9/site-packages (from nibabel) (24.2)\n",
      "Requirement already satisfied: typing-extensions>=4.6 in /home/smooi/miniconda3/envs/torch_env/lib/python3.9/site-packages (from nibabel) (4.12.2)\n",
      "Requirement already satisfied: zipp>=3.1.0 in /home/smooi/miniconda3/envs/torch_env/lib/python3.9/site-packages (from importlib-resources>=5.12->nibabel) (3.21.0)\n",
      "Using cached nibabel-5.3.2-py3-none-any.whl (3.3 MB)\n",
      "Installing collected packages: nibabel\n",
      "Successfully installed nibabel-5.3.2\n",
      "\n",
      "\u001b[1m[\u001b[0m\u001b[34;49mnotice\u001b[0m\u001b[1;39;49m]\u001b[0m\u001b[39;49m A new release of pip is available: \u001b[0m\u001b[31;49m25.0.1\u001b[0m\u001b[39;49m -> \u001b[0m\u001b[32;49m25.1.1\u001b[0m\n",
      "\u001b[1m[\u001b[0m\u001b[34;49mnotice\u001b[0m\u001b[1;39;49m]\u001b[0m\u001b[39;49m To update, run: \u001b[0m\u001b[32;49mpip install --upgrade pip\u001b[0m\n"
     ]
    }
   ],
   "source": [
    "! pip install nibabel"
   ]
  },
  {
   "cell_type": "markdown",
   "id": "77e94bfd",
   "metadata": {},
   "source": [
    "Normalization\n",
    "\n",
    "In our 2D U-Net segmentation pipeline, we implemented per-subject z-score normalization to standardize T2 MRI intensity distributions across subjects while preserving important anatomical contrast. This technique normalizes each subject's brain tissue voxels independently using the statistical properties of that specific volume. For each subject, we first create a brain mask by identifying non-zero voxels to exclude background areas. We then calculate the mean (μ) and standard deviation (σ) of intensities within the brain mask and apply the transformation to each voxel:\n",
    "\n",
    "$$I_{normalized}(x,y,z) = \\frac{I_{original}(x,y,z) - \\mu_{brain}}{\\sigma_{brain}}$$\n",
    "\n",
    "x: Position along the left-right axis (width)\n",
    "y: Position along the anterior-posterior axis (height)\n",
    "z: Position along the superior-inferior axis (depth/slice number)\n",
    "\n",
    "It is important to keep in mind that we are normalizing on the subject level. "
   ]
  },
  {
   "cell_type": "code",
   "execution_count": 5,
   "id": "c1e7dbc2",
   "metadata": {},
   "outputs": [
    {
     "name": "stdout",
     "output_type": "stream",
     "text": [
      "Dataset prepared: 94 training, 14 validation, 27 test subjects\n",
      "Verification report created at /home/smooi/Desktop/toast/data/toast_pipe_data/visualizations/verification_report.html\n",
      "2D slice pairing verification complete\n"
     ]
    }
   ],
   "source": [
    "from utils.dataset import *\n",
    "\n",
    "t2_dir=\"/home/smooi/Desktop/toast/data/toast_pipe_data/t2stack\"\n",
    "mask_dir=\"/home/smooi/Desktop/toast/data/toast_pipe_data/mask\"\n",
    "output_dir=\"/home/smooi/Desktop/toast/data/toast_pipe_data\"\n",
    "\n",
    "prepare_dataset(t2_dir, mask_dir, output_dir, test_split=0.2, val_split=0.1, visualize=True)"
   ]
  },
  {
   "cell_type": "code",
   "execution_count": 7,
   "id": "08e7122e",
   "metadata": {},
   "outputs": [
    {
     "name": "stdout",
     "output_type": "stream",
     "text": [
      "Mask shape: (160, 160)\n",
      "T2 shape: (160, 160)\n",
      "Is mask binary? True\n"
     ]
    }
   ],
   "source": [
    "# Check the dimension of one t2stack and mask pair \n",
    "# check if the mask is binary\n",
    "mask = \"/home/smooi/Desktop/toast/data/toast_pipe_data/train/masks/G024_slice_032.npy\"\n",
    "t2 = \"/home/smooi/Desktop/toast/data/toast_pipe_data/train/images/G024_slice_032.npy\"\n",
    "mask = np.load(mask)\n",
    "t2 = np.load(t2)\n",
    "\n",
    "print(\"Mask shape:\", mask.shape)\n",
    "print(\"T2 shape:\", t2.shape)\n",
    "print(\"Is mask binary?\", np.array_equal(np.unique(mask), [0, 1]))\n"
   ]
  },
  {
   "cell_type": "markdown",
   "id": "21c16047",
   "metadata": {},
   "source": [
    "## Visualize Latent Space"
   ]
  },
  {
   "cell_type": "code",
   "execution_count": null,
   "id": "7a7a73d3",
   "metadata": {},
   "outputs": [],
   "source": []
  },
  {
   "cell_type": "code",
   "execution_count": null,
   "id": "5e2afd40",
   "metadata": {},
   "outputs": [],
   "source": []
  },
  {
   "cell_type": "code",
   "execution_count": null,
   "id": "321df1bb",
   "metadata": {},
   "outputs": [],
   "source": []
  },
  {
   "cell_type": "code",
   "execution_count": null,
   "id": "3ca17fb8",
   "metadata": {},
   "outputs": [],
   "source": []
  },
  {
   "cell_type": "markdown",
   "id": "dc4343cd",
   "metadata": {},
   "source": [
    "## Training "
   ]
  },
  {
   "cell_type": "code",
   "execution_count": null,
   "id": "b90d7763",
   "metadata": {},
   "outputs": [],
   "source": []
  },
  {
   "cell_type": "code",
   "execution_count": null,
   "id": "bccc5582",
   "metadata": {},
   "outputs": [],
   "source": []
  },
  {
   "cell_type": "code",
   "execution_count": null,
   "metadata": {},
   "outputs": [],
   "source": []
  },
  {
   "cell_type": "code",
   "execution_count": null,
   "id": "f555e61c",
   "metadata": {},
   "outputs": [],
   "source": []
  },
  {
   "cell_type": "markdown",
   "id": "61d55de6",
   "metadata": {},
   "source": [
    "## Evaluation "
   ]
  },
  {
   "cell_type": "code",
   "execution_count": null,
   "id": "279a6955",
   "metadata": {},
   "outputs": [],
   "source": []
  },
  {
   "cell_type": "code",
   "execution_count": null,
   "id": "3c590fb1",
   "metadata": {},
   "outputs": [],
   "source": []
  },
  {
   "cell_type": "code",
   "execution_count": null,
   "id": "c8d4188f",
   "metadata": {},
   "outputs": [],
   "source": []
  },
  {
   "cell_type": "code",
   "execution_count": null,
   "id": "26e66fba",
   "metadata": {},
   "outputs": [],
   "source": []
  }
 ],
 "metadata": {
  "kernelspec": {
   "display_name": "torch_env",
   "language": "python",
   "name": "python3"
  },
  "language_info": {
   "codemirror_mode": {
    "name": "ipython",
    "version": 3
   },
   "file_extension": ".py",
   "mimetype": "text/x-python",
   "name": "python",
   "nbconvert_exporter": "python",
   "pygments_lexer": "ipython3",
   "version": "3.9.21"
  }
 },
 "nbformat": 4,
 "nbformat_minor": 5
}
